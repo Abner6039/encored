{
  "nbformat": 4,
  "nbformat_minor": 0,
  "metadata": {
    "colab": {
      "provenance": [],
      "authorship_tag": "ABX9TyOGJkNT5Uv0GMgxgZfdcuJc",
      "include_colab_link": true
    },
    "kernelspec": {
      "name": "python3",
      "display_name": "Python 3"
    },
    "language_info": {
      "name": "python"
    }
  },
  "cells": [
    {
      "cell_type": "markdown",
      "metadata": {
        "id": "view-in-github",
        "colab_type": "text"
      },
      "source": [
        "<a href=\"https://colab.research.google.com/github/Abner6039/encored/blob/main/adult_Removing_Duplicates.ipynb\" target=\"_parent\"><img src=\"https://colab.research.google.com/assets/colab-badge.svg\" alt=\"Open In Colab\"/></a>"
      ]
    },
    {
      "cell_type": "code",
      "execution_count": 1,
      "metadata": {
        "colab": {
          "base_uri": "https://localhost:8080/"
        },
        "id": "7KlVojiAXPoj",
        "outputId": "4d06352b-796d-4309-a3f4-9cb8786c33d7"
      },
      "outputs": [
        {
          "output_type": "stream",
          "name": "stdout",
          "text": [
            "Original dataset shape: (32560, 15)\n",
            "Number of duplicate rows: 24\n",
            "Cleaned dataset shape: (32536, 15)\n",
            "Number of duplicate rows removed: 24\n"
          ]
        }
      ],
      "source": [
        "import pandas as pd\n",
        "\n",
        "# Assuming your dataset is stored in a CSV file named 'dataset.csv'\n",
        "# Replace 'dataset.csv' with the actual path to your dataset file if needed\n",
        "dataset = pd.read_csv('adult_data.csv')\n",
        "\n",
        "# Check the number of rows and columns in the original dataset\n",
        "original_rows, original_cols = dataset.shape\n",
        "print(\"Original dataset shape:\", dataset.shape)\n",
        "\n",
        "# Identify duplicate rows in the dataset\n",
        "duplicate_rows = dataset.duplicated()\n",
        "\n",
        "# Count the number of duplicate rows\n",
        "num_duplicate_rows = duplicate_rows.sum()\n",
        "print(\"Number of duplicate rows:\", num_duplicate_rows)\n",
        "\n",
        "# Remove duplicate rows from the dataset\n",
        "cleaned_dataset = dataset.drop_duplicates()\n",
        "\n",
        "# Check the number of rows and columns in the cleaned dataset\n",
        "cleaned_rows, cleaned_cols = cleaned_dataset.shape\n",
        "print(\"Cleaned dataset shape:\", cleaned_dataset.shape)\n",
        "\n",
        "# Calculate the number of rows removed\n",
        "rows_removed = original_rows - cleaned_rows\n",
        "print(\"Number of duplicate rows removed:\", rows_removed)\n",
        "\n",
        "# Save the cleaned dataset to a new CSV file if needed\n",
        "# Replace 'cleaned_dataset.csv' with the desired filename\n",
        "cleaned_dataset.to_csv('cleaned_dataset.csv', index=False)\n",
        "\n",
        "# Now 'cleaned_dataset.csv' contains the dataset without duplicate rows\n"
      ]
    }
  ]
}
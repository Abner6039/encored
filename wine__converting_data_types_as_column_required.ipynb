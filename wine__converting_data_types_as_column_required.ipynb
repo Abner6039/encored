{
  "nbformat": 4,
  "nbformat_minor": 0,
  "metadata": {
    "colab": {
      "provenance": [],
      "authorship_tag": "ABX9TyPuo3Mf6Ift0Vog74PXrQx7",
      "include_colab_link": true
    },
    "kernelspec": {
      "name": "python3",
      "display_name": "Python 3"
    },
    "language_info": {
      "name": "python"
    }
  },
  "cells": [
    {
      "cell_type": "markdown",
      "metadata": {
        "id": "view-in-github",
        "colab_type": "text"
      },
      "source": [
        "<a href=\"https://colab.research.google.com/github/Abner6039/encored/blob/main/wine__converting_data_types_as_column_required.ipynb\" target=\"_parent\"><img src=\"https://colab.research.google.com/assets/colab-badge.svg\" alt=\"Open In Colab\"/></a>"
      ]
    },
    {
      "cell_type": "code",
      "execution_count": 3,
      "metadata": {
        "colab": {
          "base_uri": "https://localhost:8080/"
        },
        "id": "RJaPAERKTKOA",
        "outputId": "8765fd88-8e16-4259-f413-f607e452312b"
      },
      "outputs": [
        {
          "output_type": "stream",
          "name": "stdout",
          "text": [
            "Before conversion:\n",
            "1          int64\n",
            "14.23    float64\n",
            "1.71     float64\n",
            "2.43     float64\n",
            "15.6     float64\n",
            "127        int64\n",
            "2.8      float64\n",
            "3.06     float64\n",
            ".28      float64\n",
            "2.29     float64\n",
            "5.64     float64\n",
            "1.04     float64\n",
            "3.92     float64\n",
            "1065       int64\n",
            "dtype: object\n",
            "\n",
            "After conversion:\n",
            "1          int64\n",
            "14.23    float64\n",
            "1.71     float64\n",
            "2.43     float64\n",
            "15.6     float64\n",
            "127        int64\n",
            "2.8      float64\n",
            "3.06     float64\n",
            ".28      float64\n",
            "2.29     float64\n",
            "5.64     float64\n",
            "1.04     float64\n",
            "3.92     float64\n",
            "1065       int64\n",
            "dtype: object\n",
            "\n",
            "First few rows of the DataFrame:\n",
            "   1  14.23  1.71  2.43  15.6  127   2.8  3.06   .28  2.29  5.64  1.04  3.92  \\\n",
            "0  1  13.20  1.78  2.14  11.2  100  2.65  2.76  0.26  1.28  4.38  1.05  3.40   \n",
            "1  1  13.16  2.36  2.67  18.6  101  2.80  3.24  0.30  2.81  5.68  1.03  3.17   \n",
            "2  1  14.37  1.95  2.50  16.8  113  3.85  3.49  0.24  2.18  7.80  0.86  3.45   \n",
            "3  1  13.24  2.59  2.87  21.0  118  2.80  2.69  0.39  1.82  4.32  1.04  2.93   \n",
            "4  1  14.20  1.76  2.45  15.2  112  3.27  3.39  0.34  1.97  6.75  1.05  2.85   \n",
            "\n",
            "   1065  \n",
            "0  1050  \n",
            "1  1185  \n",
            "2  1480  \n",
            "3   735  \n",
            "4  1450  \n"
          ]
        }
      ],
      "source": [
        "import pandas as pd\n",
        "\n",
        "# Load the dataset into a DataFrame\n",
        "# Assuming 'df' is your DataFrame containing the wine data\n",
        "# Replace 'wine_data.csv' with the actual filename if loading from a CSV file\n",
        "df = pd.read_csv('wine_data.csv')\n",
        "\n",
        "# Step 1: Inspect current data types\n",
        "print(\"Before conversion:\")\n",
        "print(df.dtypes)\n",
        "\n",
        "# Step 2: Convert data types as needed\n",
        "# Example: Converting numerical columns to float\n",
        "# Define the list of columns to convert to float\n",
        "numeric_columns = ['Alcohol', 'Malic acid', 'Ash', 'Alcalinity of ash', 'Magnesium',\n",
        "                   'Total phenols', 'Flavanoids', 'Nonflavanoid phenols', 'Proanthocyanins',\n",
        "                   'Color intensity', 'Hue', 'OD280/OD315 of diluted wines', 'Proline']\n",
        "\n",
        "# Convert each column in the list to float\n",
        "for col in numeric_columns:\n",
        "    # Check if the column exists in the DataFrame before conversion\n",
        "    if col in df.columns:\n",
        "        df[col] = pd.to_numeric(df[col], errors='coerce')\n",
        "\n",
        "# Step 3: Handle missing values if necessary\n",
        "# Example: Drop rows with missing values\n",
        "df.dropna(inplace=True)\n",
        "\n",
        "# Step 4: Convert string dates to datetime if applicable\n",
        "# Example: Convert 'date_column' to datetime\n",
        "# df['date_column'] = pd.to_datetime(df['date_column'])\n",
        "\n",
        "# Step 5: Perform necessary checks\n",
        "# Re-inspect data types after conversion\n",
        "print(\"\\nAfter conversion:\")\n",
        "print(df.dtypes)\n",
        "\n",
        "# Display the first few rows of the DataFrame\n",
        "print(\"\\nFirst few rows of the DataFrame:\")\n",
        "print(df.head())\n"
      ]
    }
  ]
}
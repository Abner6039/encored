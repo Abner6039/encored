{
  "nbformat": 4,
  "nbformat_minor": 0,
  "metadata": {
    "colab": {
      "provenance": [],
      "authorship_tag": "ABX9TyNXcxa7CHDyem5PBKlcM3ux",
      "include_colab_link": true
    },
    "kernelspec": {
      "name": "python3",
      "display_name": "Python 3"
    },
    "language_info": {
      "name": "python"
    }
  },
  "cells": [
    {
      "cell_type": "markdown",
      "metadata": {
        "id": "view-in-github",
        "colab_type": "text"
      },
      "source": [
        "<a href=\"https://colab.research.google.com/github/Abner6039/encored/blob/main/wdbc_Handling_Categorical_Data.ipynb\" target=\"_parent\"><img src=\"https://colab.research.google.com/assets/colab-badge.svg\" alt=\"Open In Colab\"/></a>"
      ]
    },
    {
      "cell_type": "code",
      "execution_count": 2,
      "metadata": {
        "colab": {
          "base_uri": "https://localhost:8080/",
          "height": 1000
        },
        "id": "PN-2qzDoafke",
        "outputId": "e9ca5c69-5efe-4101-8336-336abfe8c14d"
      },
      "outputs": [
        {
          "output_type": "stream",
          "name": "stdout",
          "text": [
            "         ID Diagnosis  Mean Radius  Mean Texture  Mean Perimeter  Mean Area  \\\n",
            "0    842302         M        17.99         10.38          122.80     1001.0   \n",
            "1    842517         M        20.57         17.77          132.90     1326.0   \n",
            "2  84300903         M        19.69         21.25          130.00     1203.0   \n",
            "3  84348301         M        11.42         20.38           77.58      386.1   \n",
            "4  84358402         M        20.29         14.34          135.10     1297.0   \n",
            "\n",
            "   Mean Smoothness  Mean Compactness  Mean Concavity  Mean Concave Points  \\\n",
            "0          0.11840           0.27760          0.3001              0.14710   \n",
            "1          0.08474           0.07864          0.0869              0.07017   \n",
            "2          0.10960           0.15990          0.1974              0.12790   \n",
            "3          0.14250           0.28390          0.2414              0.10520   \n",
            "4          0.10030           0.13280          0.1980              0.10430   \n",
            "\n",
            "   ...  Worst Radius  Worst Texture  Worst Perimeter  Worst Area  \\\n",
            "0  ...         25.38          17.33           184.60      2019.0   \n",
            "1  ...         24.99          23.41           158.80      1956.0   \n",
            "2  ...         23.57          25.53           152.50      1709.0   \n",
            "3  ...         14.91          26.50            98.87       567.7   \n",
            "4  ...         22.54          16.67           152.20      1575.0   \n",
            "\n",
            "   Worst Smoothness  Worst Compactness  Worst Concavity  Worst Concave Points  \\\n",
            "0            0.1622             0.6656           0.7119                0.2654   \n",
            "1            0.1238             0.1866           0.2416                0.1860   \n",
            "2            0.1444             0.4245           0.4504                0.2430   \n",
            "3            0.2098             0.8663           0.6869                0.2575   \n",
            "4            0.1374             0.2050           0.4000                0.1625   \n",
            "\n",
            "   Worst Symmetry  Worst Fractal Dimension  \n",
            "0          0.4601                  0.11890  \n",
            "1          0.2750                  0.08902  \n",
            "2          0.3613                  0.08758  \n",
            "3          0.6638                  0.17300  \n",
            "4          0.2364                  0.07678  \n",
            "\n",
            "[5 rows x 32 columns]\n",
            "ID                         0\n",
            "Diagnosis                  0\n",
            "Mean Radius                0\n",
            "Mean Texture               0\n",
            "Mean Perimeter             0\n",
            "Mean Area                  0\n",
            "Mean Smoothness            0\n",
            "Mean Compactness           0\n",
            "Mean Concavity             0\n",
            "Mean Concave Points        0\n",
            "Mean Symmetry              0\n",
            "Mean Fractal Dimension     0\n",
            "SE Radius                  0\n",
            "SE Texture                 0\n",
            "SE Perimeter               0\n",
            "SE Area                    0\n",
            "SE Smoothness              0\n",
            "SE Compactness             0\n",
            "SE Concavity               0\n",
            "SE Concave Points          0\n",
            "SE Symmetry                0\n",
            "SE Fractal Dimension       0\n",
            "Worst Radius               0\n",
            "Worst Texture              0\n",
            "Worst Perimeter            0\n",
            "Worst Area                 0\n",
            "Worst Smoothness           0\n",
            "Worst Compactness          0\n",
            "Worst Concavity            0\n",
            "Worst Concave Points       0\n",
            "Worst Symmetry             0\n",
            "Worst Fractal Dimension    0\n",
            "dtype: int64\n",
            "B    357\n",
            "M    212\n",
            "Name: Diagnosis, dtype: int64\n"
          ]
        },
        {
          "output_type": "display_data",
          "data": {
            "text/plain": [
              "<Figure size 600x400 with 1 Axes>"
            ],
            "image/png": "[encoded data removed]"
          },
          "metadata": {}
        }
      ],
      "source": [
        "# Load the dataset\n",
        "url = \"https://archive.ics.uci.edu/ml/machine-learning-databases/breast-cancer-wisconsin/wdbc.data\"\n",
        "column_names = ['ID', 'Diagnosis', 'Mean Radius', 'Mean Texture', 'Mean Perimeter', 'Mean Area',\n",
        "                'Mean Smoothness', 'Mean Compactness', 'Mean Concavity', 'Mean Concave Points',\n",
        "                'Mean Symmetry', 'Mean Fractal Dimension', 'SE Radius', 'SE Texture', 'SE Perimeter',\n",
        "                'SE Area', 'SE Smoothness', 'SE Compactness', 'SE Concavity', 'SE Concave Points',\n",
        "                'SE Symmetry', 'SE Fractal Dimension', 'Worst Radius', 'Worst Texture', 'Worst Perimeter',\n",
        "                'Worst Area', 'Worst Smoothness', 'Worst Compactness', 'Worst Concavity', 'Worst Concave Points',\n",
        "                'Worst Symmetry', 'Worst Fractal Dimension']\n",
        "\n",
        "df = pd.read_csv(url, names=column_names)\n",
        "\n",
        "# Display the first few rows of the dataset\n",
        "print(df.head())\n",
        "\n",
        "# Check for missing values\n",
        "print(df.isnull().sum())\n",
        "\n",
        "# Check the distribution of the target variable\n",
        "print(df['Diagnosis'].value_counts())\n",
        "\n",
        "# Visualize the distribution of the target variable\n",
        "plt.figure(figsize=(6, 4))\n",
        "df['Diagnosis'].value_counts().plot(kind='bar', color=['blue', 'red'])\n",
        "plt.title('Diagnosis Distribution')\n",
        "plt.xlabel('Diagnosis')\n",
        "plt.ylabel('Count')\n",
        "plt.xticks(rotation=0)\n",
        "plt.show()\n"
      ]
    }
  ]
}
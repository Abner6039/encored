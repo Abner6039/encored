{
  "nbformat": 4,
  "nbformat_minor": 0,
  "metadata": {
    "colab": {
      "provenance": [],
      "authorship_tag": "ABX9TyMqSI5zO61zHapnM0yP07xV",
      "include_colab_link": true
    },
    "kernelspec": {
      "name": "python3",
      "display_name": "Python 3"
    },
    "language_info": {
      "name": "python"
    }
  },
  "cells": [
    {
      "cell_type": "markdown",
      "metadata": {
        "id": "view-in-github",
        "colab_type": "text"
      },
      "source": [
        "<a href=\"https://colab.research.google.com/github/Abner6039/encored/blob/main/bitcoin.ipynb\" target=\"_parent\"><img src=\"https://colab.research.google.com/assets/colab-badge.svg\" alt=\"Open In Colab\"/></a>"
      ]
    },
    {
      "cell_type": "code",
      "execution_count": 1,
      "metadata": {
        "colab": {
          "base_uri": "https://localhost:8080/"
        },
        "id": "_vTj-_5EyBP9",
        "outputId": "4db550ea-acb7-4cf5-9f33-afc5e334e5e5"
      },
      "outputs": [
        {
          "output_type": "stream",
          "name": "stderr",
          "text": [
            "<ipython-input-1-0a6595b6a836>:4: DtypeWarning: Columns (7) have mixed types. Specify dtype option on import or set low_memory=False.\n",
            "  bitcoin_data = pd.read_csv(\"bitstampUSD_1-min_data_2012-01-01_to_2021-03-31.csv\")\n"
          ]
        },
        {
          "output_type": "stream",
          "name": "stdout",
          "text": [
            "               Open          High           Low         Close  Volume_(BTC)  \\\n",
            "count  26449.000000  26449.000000  26449.000000  26449.000000  26449.000000   \n",
            "mean      10.072104     10.075040     10.068564     10.071462     21.370699   \n",
            "std        2.718224      2.718921      2.717185      2.717814     55.569055   \n",
            "min        3.800000      3.800000      3.800000      3.800000      0.000000   \n",
            "25%        8.090000      8.100000      8.080000      8.090000      2.189906   \n",
            "50%       10.880000     10.880000     10.880000     10.880000      7.471246   \n",
            "75%       12.030000     12.030000     12.020000     12.030000     20.300000   \n",
            "max       16.410000     16.410000     15.490000     16.000000   2958.477574   \n",
            "\n",
            "       Volume_(Currency)   Close_Lag_1   Close_Lag_2   Close_Lag_3  \\\n",
            "count       26449.000000  26448.000000  26447.000000  26446.000000   \n",
            "mean          216.573283     10.071342     10.071222     10.071102   \n",
            "std           565.336445      2.717796      2.717777      2.717758   \n",
            "min             0.000000      3.800000      3.800000      3.800000   \n",
            "25%            21.755437      8.090000      8.090000      8.090000   \n",
            "50%            72.437200     10.880000     10.880000     10.880000   \n",
            "75%           204.600000     12.030000     12.030000     12.030000   \n",
            "max         31212.194783     16.000000     16.000000     16.000000   \n",
            "\n",
            "        Close_Lag_4   Close_Lag_5     DayOfWeek     HourOfDay  \n",
            "count  26445.000000  26444.000000  26449.000000  26449.000000  \n",
            "mean      10.070983     10.070862      2.551892     12.763469  \n",
            "std        2.717740      2.717721      1.834842      6.196026  \n",
            "min        3.800000      3.800000      0.000000      0.000000  \n",
            "25%        8.090000      8.090000      1.000000      9.000000  \n",
            "50%       10.880000     10.880000      2.000000     13.000000  \n",
            "75%       12.030000     12.030000      4.000000     18.000000  \n",
            "max       16.000000     16.000000      6.000000     23.000000  \n",
            "               Timestamp  Open  High   Low  Close  Volume_(BTC)  \\\n",
            "0    2011-12-31 07:52:00  4.39  4.39  4.39   4.39      0.455581   \n",
            "478  2011-12-31 15:50:00  4.39  4.39  4.39   4.39     48.000000   \n",
            "547  2011-12-31 16:59:00  4.50  4.57  4.50   4.57     37.862297   \n",
            "548  2011-12-31 17:00:00  4.58  4.58  4.58   4.58      9.000000   \n",
            "1224 2012-01-01 04:16:00  4.58  4.58  4.58   4.58      1.502000   \n",
            "\n",
            "      Volume_(Currency) Weighted_Price  Close_Lag_1  Close_Lag_2  Close_Lag_3  \\\n",
            "0              2.000000           4.39          NaN          NaN          NaN   \n",
            "478          210.720000           4.39         4.39          NaN          NaN   \n",
            "547          171.380338       4.526411         4.39         4.39          NaN   \n",
            "548           41.220000           4.58         4.57         4.39         4.39   \n",
            "1224           6.879160           4.58         4.58         4.57         4.39   \n",
            "\n",
            "      Close_Lag_4  Close_Lag_5  DayOfWeek  HourOfDay  \n",
            "0             NaN          NaN          5          7  \n",
            "478           NaN          NaN          5         15  \n",
            "547           NaN          NaN          5         16  \n",
            "548           NaN          NaN          5         17  \n",
            "1224         4.39          NaN          6          4  \n"
          ]
        }
      ],
      "source": [
        "import pandas as pd\n",
        "\n",
        "# Load the dataset\n",
        "bitcoin_data = pd.read_csv(\"bitstampUSD_1-min_data_2012-01-01_to_2021-03-31.csv\")\n",
        "\n",
        "# Convert timestamp column to datetime format\n",
        "bitcoin_data['Timestamp'] = pd.to_datetime(bitcoin_data['Timestamp'], unit='s')\n",
        "\n",
        "# Handle missing values\n",
        "bitcoin_data.dropna(inplace=True)\n",
        "\n",
        "# Define the number of lag features\n",
        "num_lags = 5\n",
        "\n",
        "# Create lag features for 'Close' price\n",
        "for i in range(1, num_lags + 1):\n",
        "    bitcoin_data[f'Close_Lag_{i}'] = bitcoin_data['Close'].shift(i)\n",
        "\n",
        "# Extract time-based features\n",
        "bitcoin_data['DayOfWeek'] = bitcoin_data['Timestamp'].dt.dayofweek\n",
        "bitcoin_data['HourOfDay'] = bitcoin_data['Timestamp'].dt.hour\n",
        "\n",
        "# Display basic statistics of the dataset\n",
        "print(bitcoin_data.describe())\n",
        "\n",
        "# Display the updated dataset with lag features and time-based features\n",
        "print(bitcoin_data.head())\n"
      ]
    }
  ]
}
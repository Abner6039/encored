{
  "nbformat": 4,
  "nbformat_minor": 0,
  "metadata": {
    "colab": {
      "provenance": [],
      "authorship_tag": "ABX9TyNBp97Xab3f01JFBcfmrB/P",
      "include_colab_link": true
    },
    "kernelspec": {
      "name": "python3",
      "display_name": "Python 3"
    },
    "language_info": {
      "name": "python"
    }
  },
  "cells": [
    {
      "cell_type": "markdown",
      "metadata": {
        "id": "view-in-github",
        "colab_type": "text"
      },
      "source": [
        "<a href=\"https://colab.research.google.com/github/Abner6039/encored/blob/main/Titanic_Missing_value_Disaster.ipynb\" target=\"_parent\"><img src=\"https://colab.research.google.com/assets/colab-badge.svg\" alt=\"Open In Colab\"/></a>"
      ]
    },
    {
      "cell_type": "code",
      "execution_count": 3,
      "metadata": {
        "colab": {
          "base_uri": "https://localhost:8080/"
        },
        "id": "bXeuGJ0dNOd4",
        "outputId": "67ccac2b-b07b-4104-ecc5-3f416f973bec"
      },
      "outputs": [
        {
          "output_type": "stream",
          "name": "stdout",
          "text": [
            "Missing values before handling:\n",
            "pclass          1\n",
            "survived        1\n",
            "name            1\n",
            "sex             1\n",
            "age           264\n",
            "sibsp           1\n",
            "parch           1\n",
            "ticket          1\n",
            "fare            2\n",
            "cabin        1015\n",
            "embarked        3\n",
            "boat          824\n",
            "body         1189\n",
            "home.dest     565\n",
            "dtype: int64\n",
            "\n",
            "Missing values after handling:\n",
            "pclass      1\n",
            "survived    1\n",
            "name        1\n",
            "sex         1\n",
            "age         0\n",
            "sibsp       1\n",
            "parch       1\n",
            "ticket      1\n",
            "fare        0\n",
            "embarked    0\n",
            "dtype: int64\n"
          ]
        }
      ],
      "source": [
        "import pandas as pd\n",
        "\n",
        "# Load the dataset\n",
        "data = pd.read_csv('titanic.csv')\n",
        "\n",
        "# Check for missing values\n",
        "print(\"Missing values before handling:\")\n",
        "print(data.isnull().sum())\n",
        "\n",
        "# Imputation\n",
        "# Fill missing values in 'age' column with median\n",
        "data['age'].fillna(data['age'].median(), inplace=True)\n",
        "\n",
        "# Fill missing values in 'fare' column with median\n",
        "data['fare'].fillna(data['fare'].median(), inplace=True)\n",
        "\n",
        "# Fill missing values in 'embarked' column with mode\n",
        "data['embarked'].fillna(data['embarked'].mode()[0], inplace=True)\n",
        "\n",
        "# Removal\n",
        "# Drop 'cabin', 'boat', and 'body' columns due to high missing values\n",
        "data.drop(['cabin', 'boat', 'body','home.dest'], axis=1, inplace=True)\n",
        "\n",
        "# Check for missing values after handling\n",
        "print(\"\\nMissing values after handling:\")\n",
        "print(data.isnull().sum())\n",
        "\n",
        "# Save the modified dataset\n",
        "data.to_csv('modified_dataset.csv', index=False)\n"
      ]
    }
  ]
}
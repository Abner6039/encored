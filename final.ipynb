{
  "nbformat": 4,
  "nbformat_minor": 0,
  "metadata": {
    "colab": {
      "provenance": [],
      "authorship_tag": "ABX9TyOOuIS90DT7KvCJFYZqFo3d",
      "include_colab_link": true
    },
    "kernelspec": {
      "name": "python3",
      "display_name": "Python 3"
    },
    "language_info": {
      "name": "python"
    }
  },
  "cells": [
    {
      "cell_type": "markdown",
      "metadata": {
        "id": "view-in-github",
        "colab_type": "text"
      },
      "source": [
        "<a href=\"https://colab.research.google.com/github/Abner6039/encored/blob/main/final.ipynb\" target=\"_parent\"><img src=\"https://colab.research.google.com/assets/colab-badge.svg\" alt=\"Open In Colab\"/></a>"
      ]
    },
    {
      "cell_type": "code",
      "execution_count": 2,
      "metadata": {
        "colab": {
          "base_uri": "https://localhost:8080/"
        },
        "id": "9c5w56sl8NVT",
        "outputId": "8663aee8-7f0b-4cc8-a05a-f79dbdbed8fb"
      },
      "outputs": [
        {
          "output_type": "stream",
          "name": "stdout",
          "text": [
            "Initial dataset:\n",
            "     Loan_ID Gender Married Dependents     Education Self_Employed  \\\n",
            "0  LP001003   Male     Yes          1      Graduate            No   \n",
            "1  LP001005   Male     Yes          0      Graduate           Yes   \n",
            "2  LP001006   Male     Yes          0  Not Graduate            No   \n",
            "3  LP001008   Male      No          0      Graduate            No   \n",
            "4  LP001013   Male     Yes          0  Not Graduate            No   \n",
            "\n",
            "   ApplicantIncome  CoapplicantIncome  LoanAmount  Loan_Amount_Term  \\\n",
            "0             4583             1508.0       128.0             360.0   \n",
            "1             3000                0.0        66.0             360.0   \n",
            "2             2583             2358.0       120.0             360.0   \n",
            "3             6000                0.0       141.0             360.0   \n",
            "4             2333             1516.0        95.0             360.0   \n",
            "\n",
            "   Credit_History Property_Area Loan_Status  \n",
            "0             1.0         Rural           N  \n",
            "1             1.0         Urban           Y  \n",
            "2             1.0         Urban           Y  \n",
            "3             1.0         Urban           Y  \n",
            "4             1.0         Urban           Y  \n",
            "\n",
            "Missing values per column:\n",
            " Loan_ID               0\n",
            "Gender                5\n",
            "Married               0\n",
            "Dependents            8\n",
            "Education             0\n",
            "Self_Employed        21\n",
            "ApplicantIncome       0\n",
            "CoapplicantIncome     0\n",
            "LoanAmount            0\n",
            "Loan_Amount_Term     11\n",
            "Credit_History       30\n",
            "Property_Area         0\n",
            "Loan_Status           0\n",
            "dtype: int64\n",
            "\n",
            "Missing values per column after handling:\n",
            " Loan_ID              0\n",
            "Gender               0\n",
            "Married              0\n",
            "Dependents           0\n",
            "Education            0\n",
            "Self_Employed        0\n",
            "ApplicantIncome      0\n",
            "CoapplicantIncome    0\n",
            "LoanAmount           0\n",
            "Loan_Amount_Term     0\n",
            "Credit_History       0\n",
            "Property_Area        0\n",
            "Loan_Status          0\n",
            "dtype: int64\n",
            "\n",
            "Number of duplicate rows after removal: 0\n"
          ]
        }
      ],
      "source": [
        "import pandas as pd\n",
        "\n",
        "# Load the dataset\n",
        "loan_data = pd.read_csv('loan_data.csv')\n",
        "\n",
        "# Display the first few rows of the dataset\n",
        "print(\"Initial dataset:\\n\", loan_data.head())\n",
        "\n",
        "# Check for missing values in each column\n",
        "missing_values = loan_data.isnull().sum()\n",
        "print(\"\\nMissing values per column:\\n\", missing_values)\n",
        "\n",
        "# Handle missing values\n",
        "loan_data['Gender'].fillna(loan_data['Gender'].mode()[0], inplace=True)\n",
        "loan_data['Married'].fillna(loan_data['Married'].mode()[0], inplace=True)\n",
        "loan_data['Dependents'].fillna(loan_data['Dependents'].mode()[0], inplace=True)\n",
        "loan_data['Self_Employed'].fillna(loan_data['Self_Employed'].mode()[0], inplace=True)\n",
        "loan_data['LoanAmount'].fillna(loan_data['LoanAmount'].median(), inplace=True)\n",
        "loan_data['Loan_Amount_Term'].fillna(loan_data['Loan_Amount_Term'].mode()[0], inplace=True)\n",
        "loan_data['Credit_History'].fillna(loan_data['Credit_History'].mode()[0], inplace=True)\n",
        "\n",
        "# Remove duplicate rows\n",
        "loan_data.drop_duplicates(inplace=True)\n",
        "\n",
        "# Reset index after dropping duplicates\n",
        "loan_data.reset_index(drop=True, inplace=True)\n",
        "\n",
        "# Confirm if missing values and duplicates are handled\n",
        "print(\"\\nMissing values per column after handling:\\n\", loan_data.isnull().sum())\n",
        "print(\"\\nNumber of duplicate rows after removal:\", loan_data.duplicated().sum())\n",
        "\n",
        "# Save the cleaned dataset\n",
        "loan_data.to_csv('cleaned_loan_data.csv', index=False)\n"
      ]
    }
  ]
}